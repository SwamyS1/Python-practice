{
 "cells": [
  {
   "cell_type": "code",
   "execution_count": 2,
   "metadata": {},
   "outputs": [],
   "source": [
    "import requests\n",
    "from bs4 import BeautifulSoup"
   ]
  },
  {
   "cell_type": "code",
   "execution_count": 3,
   "metadata": {},
   "outputs": [],
   "source": [
    "page = requests.get(\"http://forecast.weather.gov/MapClick.php?lat=37.7772&lon=-122.4168\")"
   ]
  },
  {
   "cell_type": "code",
   "execution_count": 7,
   "metadata": {},
   "outputs": [
    {
     "data": {
      "text/plain": [
       "'<!-- IE friendly error message walkround.        \\n     if error message from server is less than   \\n     512 bytes IE v5+ will use its own error     \\n     message instead of the one returned by      \\n     server.                                 -->\\n<!DOCTYPE html PUBLIC \"-//W3C//DTD HTML 4.01//EN\">\\n<html>\\n <head>\\n  <meta content=\"text/html; charset=utf-8\" http-equiv=\"Content-Type\"/>\\n  <style type=\"text/css\">\\n   html,body{height:100%;padding:0;margin:0;}.oc{display:table;width:100%;height:100%;}.ic{display:table-cell;vertical-align:middle;height:100%;}div.msg{display:block;border:1px solid #30c;padding:0;width:500px;font-family:helvetica,sans-serif;margin:10px auto;}h1{font-weight:bold;color:#fff;font-size:14px;margin:0;padding:2px;text-align:center;background: #30c;}p{font-size:12px;margin:15px auto;width:75%;font-family:helvetica,sans-serif;text-align:left;}\\n  </style>\\n  <title>\\n   Firewall Authentication\\n  </title>\\n </head>\\n <body>\\n  <div class=\"oc\">\\n   <div class=\"ic\">\\n    <div class=\"msg\">\\n     <h1>\\n      Firewall Authentication\\n     </h1>\\n     <p>\\n      You must authenticate to use this service.\\n     </p>\\n    </div>\\n   </div>\\n  </div>\\n </body>\\n</html>\\n'"
      ]
     },
     "execution_count": 7,
     "metadata": {},
     "output_type": "execute_result"
    }
   ],
   "source": [
    "soup=BeautifulSoup(page.content,'html.parser')\n",
    "soup.prettify()"
   ]
  },
  {
   "cell_type": "code",
   "execution_count": 8,
   "metadata": {},
   "outputs": [],
   "source": [
    "#seven_day = soup.find(id=\"detailed-forecast-body\")\n",
    "#print(seven_day)"
   ]
  },
  {
   "cell_type": "code",
   "execution_count": 9,
   "metadata": {},
   "outputs": [
    {
     "name": "stdout",
     "output_type": "stream",
     "text": [
      "None\n"
     ]
    }
   ],
   "source": [
    "seven_day = soup.find(id=\"seven-day-forecast\")\n",
    "print(seven_day)"
   ]
  },
  {
   "cell_type": "code",
   "execution_count": 10,
   "metadata": {
    "collapsed": true
   },
   "outputs": [
    {
     "ename": "AttributeError",
     "evalue": "'NoneType' object has no attribute 'find_all'",
     "output_type": "error",
     "traceback": [
      "\u001b[1;31m---------------------------------------------------------------------------\u001b[0m",
      "\u001b[1;31mAttributeError\u001b[0m                            Traceback (most recent call last)",
      "\u001b[1;32m<ipython-input-10-29b98307d11a>\u001b[0m in \u001b[0;36m<module>\u001b[1;34m()\u001b[0m\n\u001b[1;32m----> 1\u001b[1;33m \u001b[0mforecast_items\u001b[0m \u001b[1;33m=\u001b[0m \u001b[0mseven_day\u001b[0m\u001b[1;33m.\u001b[0m\u001b[0mfind_all\u001b[0m\u001b[1;33m(\u001b[0m\u001b[0mclass_\u001b[0m\u001b[1;33m=\u001b[0m\u001b[1;34m\"tombstone-container\"\u001b[0m\u001b[1;33m)\u001b[0m\u001b[1;33m\u001b[0m\u001b[0m\n\u001b[0m\u001b[0;32m      2\u001b[0m \u001b[0mprint\u001b[0m\u001b[1;33m(\u001b[0m\u001b[0mforecast_items\u001b[0m\u001b[1;33m)\u001b[0m\u001b[1;33m\u001b[0m\u001b[0m\n",
      "\u001b[1;31mAttributeError\u001b[0m: 'NoneType' object has no attribute 'find_all'"
     ]
    }
   ],
   "source": [
    "forecast_items = seven_day.find_all(class_=\"tombstone-container\")\n",
    "print(forecast_items)"
   ]
  },
  {
   "cell_type": "code",
   "execution_count": 19,
   "metadata": {
    "collapsed": true
   },
   "outputs": [
    {
     "name": "stdout",
     "output_type": "stream",
     "text": [
      "<li class=\"forecast-tombstone\">\n",
      " <div class=\"tombstone-container\">\n",
      "  <p class=\"period-name\">\n",
      "   Overnight\n",
      "   <br/>\n",
      "   <br/>\n",
      "  </p>\n",
      "  <p>\n",
      "   <img alt=\"Overnight: Mostly cloudy, with a low around 49. Light west southwest wind. \" class=\"forecast-icon\" src=\"newimages/medium/nbkn.png\" title=\"Overnight: Mostly cloudy, with a low around 49. Light west southwest wind. \"/>\n",
      "  </p>\n",
      "  <p class=\"short-desc\">\n",
      "   Mostly Cloudy\n",
      "  </p>\n",
      "  <p class=\"temp temp-low\">\n",
      "   Low: 49 °F\n",
      "  </p>\n",
      " </div>\n",
      "</li>\n",
      "\n"
     ]
    }
   ],
   "source": [
    "tonight = forecast_items[0]\n",
    "print(tonight.prettify())"
   ]
  },
  {
   "cell_type": "code",
   "execution_count": 20,
   "metadata": {},
   "outputs": [
    {
     "name": "stdout",
     "output_type": "stream",
     "text": [
      "Overnight\n",
      "Mostly Cloudy\n",
      "Low: 49 °F\n"
     ]
    }
   ],
   "source": [
    "period = tonight.find(class_=\"period-name\").get_text()\n",
    "short_desc = tonight.find(class_=\"short-desc\").get_text()\n",
    "temp = tonight.find(class_=\"temp\").get_text()\n",
    "print(period)\n",
    "print(short_desc)\n",
    "print(temp)"
   ]
  },
  {
   "cell_type": "code",
   "execution_count": 23,
   "metadata": {},
   "outputs": [
    {
     "name": "stdout",
     "output_type": "stream",
     "text": [
      "Overnight: Mostly cloudy, with a low around 49. Light west southwest wind. \n"
     ]
    }
   ],
   "source": [
    "img = tonight.find(\"img\")\n",
    "desc = img['title']\n",
    "print(desc)"
   ]
  },
  {
   "cell_type": "code",
   "execution_count": 25,
   "metadata": {},
   "outputs": [
    {
     "data": {
      "text/plain": [
       "['Overnight',\n",
       " 'Tuesday',\n",
       " 'TuesdayNight',\n",
       " 'Wednesday',\n",
       " 'WednesdayNight',\n",
       " 'Thursday',\n",
       " 'ThursdayNight',\n",
       " 'Friday',\n",
       " 'FridayNight']"
      ]
     },
     "execution_count": 25,
     "metadata": {},
     "output_type": "execute_result"
    }
   ],
   "source": [
    "period_tags=seven_day.select('.tombstone-container .period-name')\n",
    "periods=[pt.get_text() for pt in period_tags]\n",
    "periods"
   ]
  },
  {
   "cell_type": "code",
   "execution_count": 31,
   "metadata": {},
   "outputs": [
    {
     "name": "stdout",
     "output_type": "stream",
     "text": [
      "['Mostly Cloudy', 'Chance Rain', 'DecreasingClouds', 'Patchy Fogthen MostlySunny', 'Mostly Cloudy', 'Partly Sunny', 'Mostly Cloudy', 'Sunny', 'Mostly Clear']\n",
      "['Low: 49 °F', 'High: 59 °F', 'Low: 47 °F', 'High: 60 °F', 'Low: 50 °F', 'High: 62 °F', 'Low: 50 °F', 'High: 64 °F', 'Low: 50 °F']\n",
      "['Overnight: Mostly cloudy, with a low around 49. Light west southwest wind. ', 'Tuesday: A 40 percent chance of rain, mainly between 9am and 1pm.  Cloudy, then gradual clearing during the afternoon, with a high near 59. Light and variable wind becoming southwest 5 to 7 mph in the morning.  New precipitation amounts of less than a tenth of an inch possible. ', 'Tuesday Night: Mostly cloudy, then gradually becoming clear, with a low around 47. North northwest wind 5 to 7 mph. ', 'Wednesday: Patchy fog before 9am.  Otherwise, sunny, with a high near 60. Light north northwest wind becoming west northwest 5 to 9 mph in the afternoon. ', 'Wednesday Night: Mostly cloudy, with a low around 50. West wind 3 to 6 mph. ', 'Thursday: Partly sunny, with a high near 62.', 'Thursday Night: Mostly cloudy, with a low around 50.', 'Friday: Sunny, with a high near 64.', 'Friday Night: Mostly clear, with a low around 50.']\n"
     ]
    }
   ],
   "source": [
    "short_desc = [sd.get_text() for sd in seven_day.select(\".tombstone-container .short-desc\")]\n",
    "temps = [t.get_text() for t in seven_day.select('.tombstone-container .temp')]\n",
    "descs = [d['title'] for d in seven_day.select('.tombstone-container img')]\n",
    "print(short_desc)\n",
    "print(temps)\n",
    "print(descs)"
   ]
  },
  {
   "cell_type": "code",
   "execution_count": 33,
   "metadata": {},
   "outputs": [
    {
     "data": {
      "text/html": [
       "<div>\n",
       "<style scoped>\n",
       "    .dataframe tbody tr th:only-of-type {\n",
       "        vertical-align: middle;\n",
       "    }\n",
       "\n",
       "    .dataframe tbody tr th {\n",
       "        vertical-align: top;\n",
       "    }\n",
       "\n",
       "    .dataframe thead th {\n",
       "        text-align: right;\n",
       "    }\n",
       "</style>\n",
       "<table border=\"1\" class=\"dataframe\">\n",
       "  <thead>\n",
       "    <tr style=\"text-align: right;\">\n",
       "      <th></th>\n",
       "      <th>periods</th>\n",
       "      <th>short_desc</th>\n",
       "      <th>temprature</th>\n",
       "      <th>Description</th>\n",
       "    </tr>\n",
       "  </thead>\n",
       "  <tbody>\n",
       "    <tr>\n",
       "      <th>0</th>\n",
       "      <td>Overnight</td>\n",
       "      <td>Mostly Cloudy</td>\n",
       "      <td>Low: 49 °F</td>\n",
       "      <td>Overnight: Mostly cloudy, with a low around 49...</td>\n",
       "    </tr>\n",
       "    <tr>\n",
       "      <th>1</th>\n",
       "      <td>Tuesday</td>\n",
       "      <td>Chance Rain</td>\n",
       "      <td>High: 59 °F</td>\n",
       "      <td>Tuesday: A 40 percent chance of rain, mainly b...</td>\n",
       "    </tr>\n",
       "    <tr>\n",
       "      <th>2</th>\n",
       "      <td>TuesdayNight</td>\n",
       "      <td>DecreasingClouds</td>\n",
       "      <td>Low: 47 °F</td>\n",
       "      <td>Tuesday Night: Mostly cloudy, then gradually b...</td>\n",
       "    </tr>\n",
       "    <tr>\n",
       "      <th>3</th>\n",
       "      <td>Wednesday</td>\n",
       "      <td>Patchy Fogthen MostlySunny</td>\n",
       "      <td>High: 60 °F</td>\n",
       "      <td>Wednesday: Patchy fog before 9am.  Otherwise, ...</td>\n",
       "    </tr>\n",
       "    <tr>\n",
       "      <th>4</th>\n",
       "      <td>WednesdayNight</td>\n",
       "      <td>Mostly Cloudy</td>\n",
       "      <td>Low: 50 °F</td>\n",
       "      <td>Wednesday Night: Mostly cloudy, with a low aro...</td>\n",
       "    </tr>\n",
       "    <tr>\n",
       "      <th>5</th>\n",
       "      <td>Thursday</td>\n",
       "      <td>Partly Sunny</td>\n",
       "      <td>High: 62 °F</td>\n",
       "      <td>Thursday: Partly sunny, with a high near 62.</td>\n",
       "    </tr>\n",
       "    <tr>\n",
       "      <th>6</th>\n",
       "      <td>ThursdayNight</td>\n",
       "      <td>Mostly Cloudy</td>\n",
       "      <td>Low: 50 °F</td>\n",
       "      <td>Thursday Night: Mostly cloudy, with a low arou...</td>\n",
       "    </tr>\n",
       "    <tr>\n",
       "      <th>7</th>\n",
       "      <td>Friday</td>\n",
       "      <td>Sunny</td>\n",
       "      <td>High: 64 °F</td>\n",
       "      <td>Friday: Sunny, with a high near 64.</td>\n",
       "    </tr>\n",
       "    <tr>\n",
       "      <th>8</th>\n",
       "      <td>FridayNight</td>\n",
       "      <td>Mostly Clear</td>\n",
       "      <td>Low: 50 °F</td>\n",
       "      <td>Friday Night: Mostly clear, with a low around 50.</td>\n",
       "    </tr>\n",
       "  </tbody>\n",
       "</table>\n",
       "</div>"
      ],
      "text/plain": [
       "          periods                  short_desc   temprature  \\\n",
       "0       Overnight               Mostly Cloudy   Low: 49 °F   \n",
       "1         Tuesday                 Chance Rain  High: 59 °F   \n",
       "2    TuesdayNight            DecreasingClouds   Low: 47 °F   \n",
       "3       Wednesday  Patchy Fogthen MostlySunny  High: 60 °F   \n",
       "4  WednesdayNight               Mostly Cloudy   Low: 50 °F   \n",
       "5        Thursday                Partly Sunny  High: 62 °F   \n",
       "6   ThursdayNight               Mostly Cloudy   Low: 50 °F   \n",
       "7          Friday                       Sunny  High: 64 °F   \n",
       "8     FridayNight                Mostly Clear   Low: 50 °F   \n",
       "\n",
       "                                         Description  \n",
       "0  Overnight: Mostly cloudy, with a low around 49...  \n",
       "1  Tuesday: A 40 percent chance of rain, mainly b...  \n",
       "2  Tuesday Night: Mostly cloudy, then gradually b...  \n",
       "3  Wednesday: Patchy fog before 9am.  Otherwise, ...  \n",
       "4  Wednesday Night: Mostly cloudy, with a low aro...  \n",
       "5       Thursday: Partly sunny, with a high near 62.  \n",
       "6  Thursday Night: Mostly cloudy, with a low arou...  \n",
       "7                Friday: Sunny, with a high near 64.  \n",
       "8  Friday Night: Mostly clear, with a low around 50.  "
      ]
     },
     "execution_count": 33,
     "metadata": {},
     "output_type": "execute_result"
    }
   ],
   "source": [
    "import pandas as pd\n",
    "weather_report = pd.DataFrame({\n",
    "    \"periods\": periods,\n",
    "    \"short_desc\": short_descs,\n",
    "    \"temprature\": temps,\n",
    "    \"Description\":descs\n",
    "})\n",
    "weather_report"
   ]
  },
  {
   "cell_type": "code",
   "execution_count": null,
   "metadata": {},
   "outputs": [],
   "source": []
  }
 ],
 "metadata": {
  "kernelspec": {
   "display_name": "Python 3",
   "language": "python",
   "name": "python3"
  },
  "language_info": {
   "codemirror_mode": {
    "name": "ipython",
    "version": 3
   },
   "file_extension": ".py",
   "mimetype": "text/x-python",
   "name": "python",
   "nbconvert_exporter": "python",
   "pygments_lexer": "ipython3",
   "version": "3.7.0"
  }
 },
 "nbformat": 4,
 "nbformat_minor": 2
}
