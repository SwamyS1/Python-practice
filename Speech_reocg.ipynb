{
 "cells": [
  {
   "cell_type": "code",
   "execution_count": 1,
   "metadata": {},
   "outputs": [],
   "source": [
    "import speech_recognition as sr"
   ]
  },
  {
   "cell_type": "code",
   "execution_count": 2,
   "metadata": {},
   "outputs": [],
   "source": [
    "r = sr.Recognizer()"
   ]
  },
  {
   "cell_type": "code",
   "execution_count": 5,
   "metadata": {},
   "outputs": [
    {
     "name": "stdout",
     "output_type": "stream",
     "text": [
      "Working on...\n",
      "is object to represent conversion here we have two dimensional conversion the weekend used and lies images resembles the densely was but instead of having every unit in the layer conducted every unit in the previous player please connect to the previous year through a convolution this means that the output of each unit in this layer is a cause pollution control over the image input 10 solutions unit training a neural network that has convolutional layers the controls in which unit would be adjusted using backpropagation the principal is the same is learning in the Tennis players that we have seen so far but with Kuwait's adults player has won wait for each pixel in the image convolution layer has only one wait for each pixel in the current for example if we set the corner size argument to 3 then means that the control unit has 9th exercise if the layer has 10 units would have 90 parameters for this kernel that contains a convolution we need and we need the dense as well as the convert 2D live in addition to designers we also need if this is a conductor between conversion and then please connect the player we initialise A sequence for mum and dad is convolution layer in addition to the function arguments that I should do before the number of units the kernel size and the active action function to use the value activation we also add your the input check this is the size of each of the input images to the network example for the images of using we might have image rose and image calls equal to 28 to connect this late to the next one we add a flat this text output in the convolution the reproduce referred to as a map and use it into one dimensional array this is the expected in incident densely connected that is when added to the network is an output output is one of three classes of closing their Si units to classify among the character is represented by this week we use the softmax activation function diagram that describes the created images of 28 by 28 Texas The Call of Duty operation will the temperature maths 28 by 28 pixels each and the fly and operation take system units AV output just before the next step is to compile the model using the Optimizer and the lost function that we would like to use per feeding for classification tasks categorical cross entropy is an appropriate loss function we can also specify the matrix do you like to see during training just the accuracy or training data for 50 samples is images of clothing training iron is it 28 by 28 pixel image with one channel When We trained on a fully connected network composed entirely of desiccant we had to reshape this input before feeding to the network we would like the pixels to retain the special relationship so we don't do that that is why we have to specify the input type when we define the convolutional layer with with with training date and training labels afterwards we can test the accuracy of the Mall on a separate Thursday result this into practice\n"
     ]
    }
   ],
   "source": [
    "with sr.AudioFile('D:/Frame work/DeepLearning/DataCamp/video.wav') as source:\n",
    "    audio = r.listen(source)\n",
    "    try:\n",
    "        text = r.recognize_google(audio)\n",
    "        print('Working on...')\n",
    "        print(text)\n",
    "    except:\n",
    "        print('Sorry.. run again...')"
   ]
  },
  {
   "cell_type": "code",
   "execution_count": null,
   "metadata": {},
   "outputs": [],
   "source": []
  }
 ],
 "metadata": {
  "kernelspec": {
   "display_name": "Python 3",
   "language": "python",
   "name": "python3"
  },
  "language_info": {
   "codemirror_mode": {
    "name": "ipython",
    "version": 3
   },
   "file_extension": ".py",
   "mimetype": "text/x-python",
   "name": "python",
   "nbconvert_exporter": "python",
   "pygments_lexer": "ipython3",
   "version": "3.7.0"
  }
 },
 "nbformat": 4,
 "nbformat_minor": 2
}
